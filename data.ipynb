{
 "cells": [
  {
   "cell_type": "code",
   "execution_count": 5,
   "metadata": {},
   "outputs": [],
   "source": [
    "import pandas as pd"
   ]
  },
  {
   "cell_type": "code",
   "execution_count": 6,
   "metadata": {},
   "outputs": [
    {
     "data": {
      "text/html": [
       "<div>\n",
       "<style scoped>\n",
       "    .dataframe tbody tr th:only-of-type {\n",
       "        vertical-align: middle;\n",
       "    }\n",
       "\n",
       "    .dataframe tbody tr th {\n",
       "        vertical-align: top;\n",
       "    }\n",
       "\n",
       "    .dataframe thead th {\n",
       "        text-align: right;\n",
       "    }\n",
       "</style>\n",
       "<table border=\"1\" class=\"dataframe\">\n",
       "  <thead>\n",
       "    <tr style=\"text-align: right;\">\n",
       "      <th></th>\n",
       "      <th>Date</th>\n",
       "      <th>id</th>\n",
       "      <th>Gazole</th>\n",
       "      <th>SP95</th>\n",
       "      <th>SP98</th>\n",
       "      <th>E10</th>\n",
       "      <th>E85</th>\n",
       "      <th>GPLc</th>\n",
       "    </tr>\n",
       "  </thead>\n",
       "  <tbody>\n",
       "    <tr>\n",
       "      <th>0</th>\n",
       "      <td>2024-01-01</td>\n",
       "      <td>1000001</td>\n",
       "      <td>1.759</td>\n",
       "      <td>1.807</td>\n",
       "      <td>1.825</td>\n",
       "      <td>1.778</td>\n",
       "      <td>0.944</td>\n",
       "      <td>0.0</td>\n",
       "    </tr>\n",
       "    <tr>\n",
       "      <th>1</th>\n",
       "      <td>2024-01-02</td>\n",
       "      <td>1000001</td>\n",
       "      <td>1.706</td>\n",
       "      <td>1.801</td>\n",
       "      <td>1.840</td>\n",
       "      <td>1.767</td>\n",
       "      <td>0.961</td>\n",
       "      <td>0.0</td>\n",
       "    </tr>\n",
       "    <tr>\n",
       "      <th>2</th>\n",
       "      <td>2024-01-03</td>\n",
       "      <td>1000001</td>\n",
       "      <td>1.706</td>\n",
       "      <td>1.801</td>\n",
       "      <td>1.840</td>\n",
       "      <td>1.767</td>\n",
       "      <td>0.961</td>\n",
       "      <td>0.0</td>\n",
       "    </tr>\n",
       "    <tr>\n",
       "      <th>3</th>\n",
       "      <td>2024-01-04</td>\n",
       "      <td>1000001</td>\n",
       "      <td>1.699</td>\n",
       "      <td>1.795</td>\n",
       "      <td>1.857</td>\n",
       "      <td>1.763</td>\n",
       "      <td>0.961</td>\n",
       "      <td>0.0</td>\n",
       "    </tr>\n",
       "    <tr>\n",
       "      <th>4</th>\n",
       "      <td>2024-01-05</td>\n",
       "      <td>1000001</td>\n",
       "      <td>1.699</td>\n",
       "      <td>1.795</td>\n",
       "      <td>1.857</td>\n",
       "      <td>1.763</td>\n",
       "      <td>0.961</td>\n",
       "      <td>0.0</td>\n",
       "    </tr>\n",
       "  </tbody>\n",
       "</table>\n",
       "</div>"
      ],
      "text/plain": [
       "        Date       id  Gazole   SP95   SP98    E10    E85  GPLc\n",
       "0 2024-01-01  1000001   1.759  1.807  1.825  1.778  0.944   0.0\n",
       "1 2024-01-02  1000001   1.706  1.801  1.840  1.767  0.961   0.0\n",
       "2 2024-01-03  1000001   1.706  1.801  1.840  1.767  0.961   0.0\n",
       "3 2024-01-04  1000001   1.699  1.795  1.857  1.763  0.961   0.0\n",
       "4 2024-01-05  1000001   1.699  1.795  1.857  1.763  0.961   0.0"
      ]
     },
     "execution_count": 6,
     "metadata": {},
     "output_type": "execute_result"
    }
   ],
   "source": [
    "# Load data\n",
    "df = pd.read_csv('Prix_2024_full.csv')\n",
    "\n",
    "# Date\n",
    "df[\"Date\"] = pd.to_datetime(df[\"Date\"], format=\"%Y-%m-%d\")\n",
    "\n",
    "df.head()"
   ]
  },
  {
   "cell_type": "code",
   "execution_count": 7,
   "metadata": {},
   "outputs": [],
   "source": [
    "# Garder que les données du 1 Janvier 2024 au 30 Juin 2024\n",
    "df = df[(df[\"Date\"] >= \"2024-01-01\") & (df[\"Date\"] <= \"2024-06-30\")]"
   ]
  },
  {
   "cell_type": "code",
   "execution_count": 8,
   "metadata": {},
   "outputs": [],
   "source": [
    "# Sauvegarder les données\n",
    "df.to_csv('Prix_2024.csv', index=False)"
   ]
  }
 ],
 "metadata": {
  "kernelspec": {
   "display_name": "Python 3",
   "language": "python",
   "name": "python3"
  },
  "language_info": {
   "codemirror_mode": {
    "name": "ipython",
    "version": 3
   },
   "file_extension": ".py",
   "mimetype": "text/x-python",
   "name": "python",
   "nbconvert_exporter": "python",
   "pygments_lexer": "ipython3",
   "version": "3.13.0"
  }
 },
 "nbformat": 4,
 "nbformat_minor": 2
}
